{
 "cells": [
  {
   "cell_type": "code",
   "execution_count": 8,
   "metadata": {},
   "outputs": [],
   "source": [
    "# A minimal exploratory analysis of the sdg rawvalues (OECD) dataset\n",
    "# SDG.org.nz Lecture\n",
    "# September 3, 2020\n",
    "# Maria DaRocha\n",
    "\n",
    "import pandas as pd\n",
    "import seaborn as sns\n",
    "import matplotlib.pyplot as plt"
   ]
  },
  {
   "cell_type": "code",
   "execution_count": 32,
   "metadata": {},
   "outputs": [
    {
     "data": {
      "text/html": [
       "<div>\n",
       "<style scoped>\n",
       "    .dataframe tbody tr th:only-of-type {\n",
       "        vertical-align: middle;\n",
       "    }\n",
       "\n",
       "    .dataframe tbody tr th {\n",
       "        vertical-align: top;\n",
       "    }\n",
       "\n",
       "    .dataframe thead th {\n",
       "        text-align: right;\n",
       "    }\n",
       "</style>\n",
       "<table border=\"1\" class=\"dataframe\">\n",
       "  <thead>\n",
       "    <tr style=\"text-align: right;\">\n",
       "      <th></th>\n",
       "      <th>country</th>\n",
       "      <th>name</th>\n",
       "      <th>period</th>\n",
       "      <th>index</th>\n",
       "      <th>rawval</th>\n",
       "    </tr>\n",
       "  </thead>\n",
       "  <tbody>\n",
       "    <tr>\n",
       "      <th>0</th>\n",
       "      <td>New Zealand</td>\n",
       "      <td>Income poverty</td>\n",
       "      <td>1990</td>\n",
       "      <td>0.0</td>\n",
       "      <td>10.0</td>\n",
       "    </tr>\n",
       "    <tr>\n",
       "      <th>1</th>\n",
       "      <td>New Zealand</td>\n",
       "      <td>Income poverty</td>\n",
       "      <td>1992</td>\n",
       "      <td>0.0</td>\n",
       "      <td>20.0</td>\n",
       "    </tr>\n",
       "    <tr>\n",
       "      <th>2</th>\n",
       "      <td>New Zealand</td>\n",
       "      <td>Income poverty</td>\n",
       "      <td>1994</td>\n",
       "      <td>0.0</td>\n",
       "      <td>22.0</td>\n",
       "    </tr>\n",
       "    <tr>\n",
       "      <th>3</th>\n",
       "      <td>New Zealand</td>\n",
       "      <td>Income poverty</td>\n",
       "      <td>1996</td>\n",
       "      <td>0.0</td>\n",
       "      <td>20.0</td>\n",
       "    </tr>\n",
       "    <tr>\n",
       "      <th>4</th>\n",
       "      <td>New Zealand</td>\n",
       "      <td>Income poverty</td>\n",
       "      <td>1998</td>\n",
       "      <td>0.0</td>\n",
       "      <td>18.0</td>\n",
       "    </tr>\n",
       "  </tbody>\n",
       "</table>\n",
       "</div>"
      ],
      "text/plain": [
       "       country            name  period  index  rawval\n",
       "0  New Zealand  Income poverty    1990    0.0    10.0\n",
       "1  New Zealand  Income poverty    1992    0.0    20.0\n",
       "2  New Zealand  Income poverty    1994    0.0    22.0\n",
       "3  New Zealand  Income poverty    1996    0.0    20.0\n",
       "4  New Zealand  Income poverty    1998    0.0    18.0"
      ]
     },
     "execution_count": 32,
     "metadata": {},
     "output_type": "execute_result"
    }
   ],
   "source": [
    "df = pd.read_csv('sdg-demo.csv')\n",
    "df.head()"
   ]
  },
  {
   "cell_type": "code",
   "execution_count": 33,
   "metadata": {},
   "outputs": [
    {
     "name": "stdout",
     "output_type": "stream",
     "text": [
      "<class 'pandas.core.frame.DataFrame'>\n",
      "RangeIndex: 693 entries, 0 to 692\n",
      "Data columns (total 5 columns):\n",
      " #   Column   Non-Null Count  Dtype  \n",
      "---  ------   --------------  -----  \n",
      " 0   country  693 non-null    object \n",
      " 1   name     693 non-null    object \n",
      " 2   period   693 non-null    int64  \n",
      " 3   index    693 non-null    float64\n",
      " 4   rawval   693 non-null    float64\n",
      "dtypes: float64(2), int64(1), object(2)\n",
      "memory usage: 27.2+ KB\n"
     ]
    }
   ],
   "source": [
    "df.info()"
   ]
  },
  {
   "cell_type": "code",
   "execution_count": 34,
   "metadata": {},
   "outputs": [
    {
     "data": {
      "text/plain": [
       "50"
      ]
     },
     "execution_count": 34,
     "metadata": {},
     "output_type": "execute_result"
    }
   ],
   "source": [
    "df['name'].nunique()"
   ]
  },
  {
   "cell_type": "code",
   "execution_count": 35,
   "metadata": {},
   "outputs": [
    {
     "data": {
      "text/plain": [
       "array(['Income poverty', 'Material Hardship',\n",
       "       'Working hours needed to escape poverty', 'Obesity',\n",
       "       'Organic farmland', 'Infant mortality', 'Suicide mortality',\n",
       "       'Diabetes mortality rate', 'Cancer mortality rate',\n",
       "       'Cardiovascular disease', 'Mortality due to road traffic injuries',\n",
       "       'Chronic lower respiratory diseases', 'Alcohol Consumption',\n",
       "       'Educational attainment of adult population ',\n",
       "       'Access to early childhood education ',\n",
       "       'Female representation in parliament',\n",
       "       'Incidences of intimate partner violence',\n",
       "       'Percentage of women in senior managerial positions',\n",
       "       'Reduction of gender wage gap',\n",
       "       'Population with safe drinking water', 'Water stress',\n",
       "       'Water supply and sanitation ODA ',\n",
       "       'Percentage of electricity generation from renewable resources',\n",
       "       'Proportion of population with primary reliance on clean fuels and technology',\n",
       "       'Improvement of energy intensity', 'Real GNDI per person',\n",
       "       'Unemployment rate', 'Domestic material consumption',\n",
       "       'Gross Domestic Spending on R&D',\n",
       "       'Emissions of CO2 per unit of GDP',\n",
       "       'Proportion of population in households with incomes below 60% of the median income',\n",
       "       'Housing affordability',\n",
       "       'Proportion of popn reporting problems with housing',\n",
       "       'Municipal waste generated per capita',\n",
       "       'Proportion of packaging waste recycled ',\n",
       "       'Non-energy material productivity',\n",
       "       'Production-based CO2 productivity',\n",
       "       'Establishment of an integrated policy/strategy/plan for climate adaptation',\n",
       "       'Ocean acidification',\n",
       "       'Proportion of total research budget allocated to research in the field of marine technology ',\n",
       "       'Percentage of marine area protected',\n",
       "       'Proportion of fish stocks above a soft limit', 'Land cover/use',\n",
       "       'Intensity of use of forest resources',\n",
       "       'Terrestrial protected areas as a % of total land area',\n",
       "       'Rate of death from assault',\n",
       "       'Proportion of popn subjected to physical, psychological or sexual violence in the last 12 months ',\n",
       "       'instances of remand prisoners as a proportion of total offender population',\n",
       "       'ODA as a percentage of GDP',\n",
       "       'Broadband penetration rate - subsciptions per 100 inhabitants'],\n",
       "      dtype=object)"
      ]
     },
     "execution_count": 35,
     "metadata": {},
     "output_type": "execute_result"
    }
   ],
   "source": [
    "df['name'].unique()"
   ]
  },
  {
   "cell_type": "code",
   "execution_count": 36,
   "metadata": {},
   "outputs": [
    {
     "name": "stdout",
     "output_type": "stream",
     "text": [
      "count     693.000000\n",
      "mean     2006.139971\n",
      "std         7.278464\n",
      "min      1990.000000\n",
      "25%      2001.000000\n",
      "50%      2007.000000\n",
      "75%      2012.000000\n",
      "max      2018.000000\n",
      "Name: period, dtype: float64\n"
     ]
    },
    {
     "data": {
      "image/png": "[encoded data removed]",
      "text/plain": [
       "<Figure size 648x576 with 1 Axes>"
      ]
     },
     "metadata": {
      "needs_background": "light"
     },
     "output_type": "display_data"
    }
   ],
   "source": [
    "print(df['period'].describe())\n",
    "plt.figure(figsize=(9, 8))\n",
    "sns.distplot(df['period'], color='g', bins=100, hist_kws={'alpha': 0.4});"
   ]
  },
  {
   "cell_type": "code",
   "execution_count": null,
   "metadata": {},
   "outputs": [],
   "source": []
  }
 ],
 "metadata": {
  "kernelspec": {
   "display_name": "Python 3",
   "language": "python",
   "name": "python3"
  },
  "language_info": {
   "codemirror_mode": {
    "name": "ipython",
    "version": 3
   },
   "file_extension": ".py",
   "mimetype": "text/x-python",
   "name": "python",
   "nbconvert_exporter": "python",
   "pygments_lexer": "ipython3",
   "version": "3.8.3"
  }
 },
 "nbformat": 4,
 "nbformat_minor": 4
}
